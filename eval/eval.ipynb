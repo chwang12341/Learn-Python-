{
 "cells": [
  {
   "cell_type": "code",
   "execution_count": 4,
   "metadata": {},
   "outputs": [
    {
     "name": "stdout",
     "output_type": "stream",
     "text": [
      "<class 'str'>\n",
      "(23+6-9)*8\n",
      "------------ eval() ---------------\n",
      "<class 'int'>\n",
      "160\n"
     ]
    }
   ],
   "source": [
    "x = '(23+6-9)*8'\n",
    "print(type(x))\n",
    "print(x)\n",
    "## eval\n",
    "print('------------ eval() ---------------')\n",
    "\n",
    "print(type(eval(x)))\n",
    "print(eval(x))"
   ]
  },
  {
   "cell_type": "code",
   "execution_count": 7,
   "metadata": {},
   "outputs": [
    {
     "name": "stdout",
     "output_type": "stream",
     "text": [
      "Give a number:6\n",
      "plus 2\n"
     ]
    },
    {
     "data": {
      "text/plain": [
       "8"
      ]
     },
     "execution_count": 7,
     "metadata": {},
     "output_type": "execute_result"
    }
   ],
   "source": [
    "x = int(input('Give a number:'))\n",
    "print('plus 2')\n",
    "eval('x + 2')"
   ]
  },
  {
   "cell_type": "code",
   "execution_count": 12,
   "metadata": {},
   "outputs": [
    {
     "name": "stdout",
     "output_type": "stream",
     "text": [
      "<class 'str'>\n",
      "--------------eval------------------\n",
      "<class 'dict'>\n",
      "{'Student': 'A', 'Score': 99}\n"
     ]
    }
   ],
   "source": [
    "x=\"{'Student': 'A',  'Score': 99}\"\n",
    "print(type(x))\n",
    "\n",
    "print('--------------eval------------------')\n",
    "print(type(eval(x)))\n",
    "print(eval(x))"
   ]
  },
  {
   "cell_type": "code",
   "execution_count": 17,
   "metadata": {},
   "outputs": [
    {
     "name": "stdout",
     "output_type": "stream",
     "text": [
      "8\n",
      "{'Student': 'Ken', 'Score': 99}\n"
     ]
    }
   ],
   "source": [
    "## 全局變量 globals 應用\n",
    "print(eval('x + 2', {'x': 6}))\n",
    "print(eval(\"{'Student': 'Ken', 'Score': score}\", {'score': 99}))"
   ]
  },
  {
   "cell_type": "code",
   "execution_count": 44,
   "metadata": {},
   "outputs": [
    {
     "name": "stdout",
     "output_type": "stream",
     "text": [
      "10\n",
      "{'Student': 'Ken', 'Score': 60}\n",
      "{'Student': 'Allen', 'score': 99}\n"
     ]
    }
   ],
   "source": [
    "## locals 和 globals 都給定字典\n",
    "print(eval('x + 2',{'x': 6},{'x':8}))\n",
    "print(eval(\"{'Student':'Ken','Score': score}\", {'score': 99}, {'score': 60}))\n",
    "\n",
    "## 使用locals()來獲取局部命名空間的字典，並同時取全局與局部的值，只要不同就能同時使用\n",
    "name = \"Allen\"\n",
    "print(eval(\"{'Student': name, 'score': score}\", {'score': 99}, locals()))"
   ]
  },
  {
   "cell_type": "code",
   "execution_count": 12,
   "metadata": {},
   "outputs": [
    {
     "name": "stdout",
     "output_type": "stream",
     "text": [
      "输入格:__import__('os').system('dir') \n"
     ]
    },
    {
     "data": {
      "text/plain": [
       "0"
      ]
     },
     "execution_count": 12,
     "metadata": {},
     "output_type": "execute_result"
    }
   ],
   "source": [
    "t = input(\"输入格:\")\n",
    "eval(t)"
   ]
  }
 ],
 "metadata": {
  "kernelspec": {
   "display_name": "Python 3",
   "language": "python",
   "name": "python3"
  },
  "language_info": {
   "codemirror_mode": {
    "name": "ipython",
    "version": 3
   },
   "file_extension": ".py",
   "mimetype": "text/x-python",
   "name": "python",
   "nbconvert_exporter": "python",
   "pygments_lexer": "ipython3",
   "version": "3.7.6"
  }
 },
 "nbformat": 4,
 "nbformat_minor": 4
}
