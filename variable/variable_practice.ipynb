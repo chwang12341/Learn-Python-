{
 "cells": [
  {
   "cell_type": "markdown",
   "id": "2a4a3623",
   "metadata": {},
   "source": [
    "# 整數"
   ]
  },
  {
   "cell_type": "code",
   "execution_count": 1,
   "id": "0f087bd1",
   "metadata": {},
   "outputs": [],
   "source": [
    "x = 1\n",
    "y = 26\n",
    "z = 999"
   ]
  },
  {
   "cell_type": "code",
   "execution_count": 3,
   "id": "59f906d8",
   "metadata": {},
   "outputs": [
    {
     "name": "stdout",
     "output_type": "stream",
     "text": [
      "1\n",
      "26\n",
      "999\n",
      "<class 'int'> <class 'int'> <class 'int'>\n"
     ]
    }
   ],
   "source": [
    "print(x)\n",
    "print(y)\n",
    "print(z)\n",
    "# 類型檢測\n",
    "print(type(x), type(y), type(z))"
   ]
  },
  {
   "cell_type": "markdown",
   "id": "73e3c863",
   "metadata": {},
   "source": [
    "# 浮點數"
   ]
  },
  {
   "cell_type": "code",
   "execution_count": 4,
   "id": "b8480f82",
   "metadata": {},
   "outputs": [],
   "source": [
    "a = 2.7\n",
    "b = 9.78\n",
    "c = 10.967"
   ]
  },
  {
   "cell_type": "code",
   "execution_count": 5,
   "id": "0d31479c",
   "metadata": {},
   "outputs": [
    {
     "name": "stdout",
     "output_type": "stream",
     "text": [
      "2.7\n",
      "9.78\n",
      "10.967\n",
      "<class 'float'> <class 'float'> <class 'float'>\n"
     ]
    }
   ],
   "source": [
    "print(a)\n",
    "print(b)\n",
    "print(c)\n",
    "# 類型檢測\n",
    "print(type(a), type(b), type(c))"
   ]
  },
  {
   "cell_type": "markdown",
   "id": "4eb77d11",
   "metadata": {},
   "source": [
    "# 字符串"
   ]
  },
  {
   "cell_type": "code",
   "execution_count": 13,
   "id": "08c9903c",
   "metadata": {},
   "outputs": [],
   "source": [
    "# 單行文字\n",
    "\n",
    "# 單引號\n",
    "Name = 'Ken'\n",
    "# 雙引號\n",
    "Note = 'Welcome To My Website'"
   ]
  },
  {
   "cell_type": "code",
   "execution_count": 14,
   "id": "9324bd7c",
   "metadata": {},
   "outputs": [
    {
     "name": "stdout",
     "output_type": "stream",
     "text": [
      "Ken\n",
      "Welcome To My Website\n",
      "Hello Ken, Welcome To My Website\n",
      "<class 'str'> <class 'str'>\n"
     ]
    }
   ],
   "source": [
    "print(Name)\n",
    "print(Note)\n",
    "print(\"Hello \" + Name + \", \" + Note)\n",
    "print(type(Name), type(Note))"
   ]
  },
  {
   "cell_type": "code",
   "execution_count": 18,
   "id": "e8aa0476",
   "metadata": {},
   "outputs": [],
   "source": [
    "# 多行文字\n",
    "\n",
    "Email = \"\"\"\n",
    "Dear Wang,\n",
    "Your Product have arrived.\n",
    "\n",
    "Best Regards,\n",
    "Su\n",
    "\"\"\""
   ]
  },
  {
   "cell_type": "code",
   "execution_count": 19,
   "id": "05133d09",
   "metadata": {},
   "outputs": [
    {
     "name": "stdout",
     "output_type": "stream",
     "text": [
      "\n",
      "Dear Wang,\n",
      "Your Product have arrived.\n",
      "\n",
      "Best Regards,\n",
      "Su\n",
      "\n",
      "<class 'str'>\n"
     ]
    }
   ],
   "source": [
    "print(Email)\n",
    "print(type(Email))"
   ]
  },
  {
   "cell_type": "markdown",
   "id": "5f6664df",
   "metadata": {},
   "source": [
    "# 布林值 Boolean"
   ]
  },
  {
   "cell_type": "code",
   "execution_count": 20,
   "id": "b9621058",
   "metadata": {},
   "outputs": [],
   "source": [
    "## Boolean\n",
    "\n",
    "is_checked = True\n",
    "\n",
    "Flag = False"
   ]
  },
  {
   "cell_type": "code",
   "execution_count": 22,
   "id": "32328109",
   "metadata": {},
   "outputs": [
    {
     "name": "stdout",
     "output_type": "stream",
     "text": [
      "True\n",
      "False\n",
      "<class 'bool'> <class 'bool'>\n",
      "Done\n"
     ]
    }
   ],
   "source": [
    "print(is_checked)\n",
    "print(Flag)\n",
    "print(type(is_checked), type(Flag))\n",
    "\n",
    "if is_checked == True:\n",
    "    print(\"Done\")"
   ]
  },
  {
   "cell_type": "markdown",
   "id": "70045e9b",
   "metadata": {},
   "source": [
    "# 容器"
   ]
  },
  {
   "cell_type": "code",
   "execution_count": 25,
   "id": "3b437843",
   "metadata": {},
   "outputs": [],
   "source": [
    "import numpy as np\n",
    "\n",
    "# List\n",
    "score_list = [61, 86, 96.3, 99.8]\n",
    "name_list = ['Una', 'Tom', 'Ken']\n",
    "\n",
    "# Array\n",
    "info = np.array([ [1, 3, 5], [2, 4, 6] ])\n",
    "\n",
    "# Tuple\n",
    "e_tuple = (1,2,3)"
   ]
  },
  {
   "cell_type": "code",
   "execution_count": 26,
   "id": "a6e6413e",
   "metadata": {},
   "outputs": [
    {
     "name": "stdout",
     "output_type": "stream",
     "text": [
      "Score:  [61, 86, 96.3, 99.8]\n",
      "Name:  ['Una', 'Tom', 'Ken']\n",
      "[[1 3 5]\n",
      " [2 4 6]]\n",
      "(1, 2, 3)\n",
      "<class 'list'> <class 'list'> <class 'numpy.ndarray'> <class 'tuple'>\n"
     ]
    }
   ],
   "source": [
    "print(\"Score: \", score_list)\n",
    "print(\"Name: \", name_list)\n",
    "print(info)\n",
    "print(e_tuple)\n",
    "print(type(score_list), type(name_list), type(info), type(e_tuple))"
   ]
  }
 ],
 "metadata": {
  "kernelspec": {
   "display_name": "Python 3 (ipykernel)",
   "language": "python",
   "name": "python3"
  },
  "language_info": {
   "codemirror_mode": {
    "name": "ipython",
    "version": 3
   },
   "file_extension": ".py",
   "mimetype": "text/x-python",
   "name": "python",
   "nbconvert_exporter": "python",
   "pygments_lexer": "ipython3",
   "version": "3.10.9"
  }
 },
 "nbformat": 4,
 "nbformat_minor": 5
}
